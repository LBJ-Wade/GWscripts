{
 "cells": [
  {
   "cell_type": "code",
   "execution_count": 87,
   "id": "suitable-bunny",
   "metadata": {},
   "outputs": [],
   "source": [
    "import h5py\n",
    "import numpy as np\n",
    "import glob\n",
    "import os.path\n",
    "from astropy.time import Time"
   ]
  },
  {
   "cell_type": "code",
   "execution_count": 49,
   "id": "parental-monaco",
   "metadata": {},
   "outputs": [],
   "source": [
    "b = h5py.File('/work/ahnitz/projects/o3sub/test/banks/sub.hdf', 'r')"
   ]
  },
  {
   "cell_type": "code",
   "execution_count": 101,
   "id": "utility-homework",
   "metadata": {
    "scrolled": true
   },
   "outputs": [
    {
     "name": "stdout",
     "output_type": "stream",
     "text": [
      "hid -1 lid 1132638529 vid 5710461028\n",
      "1240000657.632 & 0.057 & 3.04 & 0.10 & 0.00 & 5.8 & 6.9 & 5.9 \\hline\n",
      "hid 355549021 lid 544512002 vid -1\n",
      "1246418221.718 & 0.075 & 0.13 & 0.13 & 0.00 & 6.2 & 6.7 & 6.1 \\hline\n",
      "hid 177909212 lid 243099492 vid -1\n",
      "1242817372.434 & 0.079 & 0.86 & 0.11 & 0.00 & 5.6 & 6.9 & 5.8 \\hline\n",
      "hid 157421446 lid 253676108 vid -1\n",
      "1252963276.322 & 0.062 & 1.05 & 0.52 & 0.28 & 6.7 & 6.3 & 5.7 \\hline\n",
      "hid 554286048 lid 597733347 vid -1\n",
      "1245411568.354 & 0.084 & 0.69 & 0.21 & 0.00 & 6.3 & 6.3 & 6.5 \\hline\n"
     ]
    }
   ],
   "source": [
    "threshold = 0.05\n",
    "\n",
    "for fname in glob.glob('/work/ahnitz/projects/o3sub/test/storage/sub/sub/O3/*/full_data/*COMBINE*'):\n",
    "    fpath = os.path.dirname(fname)\n",
    "    f = h5py.File(fname,'r')\n",
    "    \n",
    "    ifar = f['foreground/ifar'][:]\n",
    "    htime = f['foreground/H1/time'][:]\n",
    "    ltime = f['foreground/L1/time'][:]\n",
    "    index = ifar > threshold\n",
    "\n",
    "    if index.sum() > 0:\n",
    "        lf = h5py.File(glob.glob(fpath + '/L1*HDF_TRIGGER_MERGE*.hdf')[0], 'r')\n",
    "        hf = h5py.File(glob.glob(fpath + '/H1*HDF_TRIGGER_MERGE*.hdf')[0], 'r')\n",
    "        vf = h5py.File(glob.glob(fpath + '/V1*HDF_TRIGGER_MERGE*.hdf')[0], 'r')\n",
    "        \n",
    "        tid = f['foreground/template_id'][:][index]\n",
    "        lid = f['foreground/L1/trigger_id'][:][index]\n",
    "        hid = f['foreground/H1/trigger_id'][:][index]\n",
    "        vid = f['foreground/V1/trigger_id'][:][index]\n",
    "        \n",
    "        for i,_ in enumerate(tid):\n",
    "            hsnr = hf['H1/snr'][hid[i]]\n",
    "            lsnr = lf['L1/snr'][lid[i]]\n",
    "            vsnr = vf['V1/snr'][vid[i]]\n",
    "            m1, m2 = b['mass1'][tid[i]], b['mass2'][tid[i]]\n",
    "            print('hid',hid[i],'lid',lid[i],'vid',vid[i])\n",
    "            ecc = b['eccentricity'][tid[i]]\n",
    "            print ('%.3f & %.3f & %.2f & %.2f & %.2f & %.1f & %.1f & %.1f \\hline' % (ltime[index][i], ifar[index][i],m1, m2, ecc, hsnr, lsnr,vsnr))\n",
    "        lf.close()\n",
    "        hf.close()\n",
    "        vf.close()\n",
    "    f.close()"
   ]
  },
  {
   "cell_type": "code",
   "execution_count": null,
   "id": "polished-intermediate",
   "metadata": {},
   "outputs": [],
   "source": []
  }
 ],
 "metadata": {
  "kernelspec": {
   "display_name": "Python 3",
   "language": "python",
   "name": "python3"
  },
  "language_info": {
   "codemirror_mode": {
    "name": "ipython",
    "version": 3
   },
   "file_extension": ".py",
   "mimetype": "text/x-python",
   "name": "python",
   "nbconvert_exporter": "python",
   "pygments_lexer": "ipython3",
   "version": "3.7.3"
  }
 },
 "nbformat": 4,
 "nbformat_minor": 5
}
